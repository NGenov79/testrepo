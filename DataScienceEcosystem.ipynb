{
 "cells": [
  {
   "cell_type": "markdown",
   "id": "31543fcc-6c2d-4961-bb0a-d35ffc41186b",
   "metadata": {
    "tags": []
   },
   "source": [
    "# Data Science Tools and Ecosystem"
   ]
  },
  {
   "cell_type": "markdown",
   "id": "f8768d77-b5c0-465e-8879-78ffc7882870",
   "metadata": {},
   "source": [
    "In this notebook, Data Science Tools and Ecosystem are summarized."
   ]
  },
  {
   "cell_type": "markdown",
   "id": "58f7e81e-1d65-4dcb-971a-c16de00b156d",
   "metadata": {},
   "source": [
    "Some of the popular languages that Data Scientists use are:"
   ]
  },
  {
   "cell_type": "markdown",
   "id": "37f658b9-92c2-4f63-be8d-0caf8395f5e5",
   "metadata": {},
   "source": [
    "1. Python\n",
    "2. R\n",
    "3. SQL"
   ]
  },
  {
   "cell_type": "markdown",
   "id": "da9b3019-6d47-4fdf-8aa3-7d6f9b1cbde7",
   "metadata": {},
   "source": [
    "Some of the commonly used libraries used by Data Scientists include:"
   ]
  },
  {
   "cell_type": "markdown",
   "id": "91022492-6726-43e0-b07d-52a67ac57c36",
   "metadata": {},
   "source": [
    "1. Pandas\n",
    "2. NumPy\n",
    "3. Matplotlib"
   ]
  },
  {
   "cell_type": "markdown",
   "id": "c4222de0-8628-4222-bf74-ee50e017031a",
   "metadata": {},
   "source": [
    "Data Science Tools|\n",
    "----------------|\n",
    "RStudio|\n",
    "Jupyter Notebook|\n",
    "Apache Spark|"
   ]
  },
  {
   "cell_type": "markdown",
   "id": "da007f5f-2651-4f1b-a739-747a49b3d554",
   "metadata": {
    "tags": []
   },
   "source": [
    "### Below are a few examples of evaluating arithmetic expressions in Python"
   ]
  },
  {
   "cell_type": "markdown",
   "id": "cfdb0b2a-b149-46e5-b92f-47171ce62cec",
   "metadata": {},
   "source": [
    "This a simple arithmetic expression to mutiply then add integers"
   ]
  },
  {
   "cell_type": "code",
   "execution_count": 2,
   "id": "28c73320-fa6d-47ba-b013-58d44b2db51c",
   "metadata": {
    "tags": []
   },
   "outputs": [
    {
     "data": {
      "text/plain": [
       "17"
      ]
     },
     "execution_count": 2,
     "metadata": {},
     "output_type": "execute_result"
    }
   ],
   "source": [
    "(3*4)+5"
   ]
  },
  {
   "cell_type": "markdown",
   "id": "176bbd69-f51c-48fc-8186-ffe08e6d2555",
   "metadata": {},
   "source": [
    "This will convert 200 minutes to hours by diving by 60\n"
   ]
  },
  {
   "cell_type": "code",
   "execution_count": 4,
   "id": "e6ce7405-430d-4493-863a-a0568836ed43",
   "metadata": {
    "tags": []
   },
   "outputs": [
    {
     "data": {
      "text/plain": [
       "3.3333333333333335"
      ]
     },
     "execution_count": 4,
     "metadata": {},
     "output_type": "execute_result"
    }
   ],
   "source": [
    "200/60"
   ]
  },
  {
   "cell_type": "markdown",
   "id": "04bf6c0c-eb46-4637-87ed-64900dd048ff",
   "metadata": {},
   "source": [
    "Objectives:"
   ]
  },
  {
   "cell_type": "markdown",
   "id": "df358bc8-0fe2-4437-87ba-b408cb18df31",
   "metadata": {},
   "source": [
    "+ List popular languages for Data Science\n",
    "+ Create a markdown cell to list data science libraries\n",
    "+ Create a markdown cell to list data science languages"
   ]
  },
  {
   "cell_type": "markdown",
   "id": "49a39e26-bb20-4a0e-ac8a-1553b5f02cc4",
   "metadata": {},
   "source": [
    "## Author\n",
    "Nikola Genov"
   ]
  },
  {
   "cell_type": "code",
   "execution_count": null,
   "id": "bf0cfb3b-84c8-4ae7-9898-98887b888887",
   "metadata": {},
   "outputs": [],
   "source": []
  }
 ],
 "metadata": {
  "kernelspec": {
   "display_name": "Python",
   "language": "python",
   "name": "conda-env-python-py"
  },
  "language_info": {
   "codemirror_mode": {
    "name": "ipython",
    "version": 3
   },
   "file_extension": ".py",
   "mimetype": "text/x-python",
   "name": "python",
   "nbconvert_exporter": "python",
   "pygments_lexer": "ipython3",
   "version": "3.7.12"
  }
 },
 "nbformat": 4,
 "nbformat_minor": 5
}
